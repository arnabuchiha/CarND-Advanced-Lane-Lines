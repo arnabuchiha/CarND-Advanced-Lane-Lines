{
 "cells": [
  {
   "cell_type": "code",
   "execution_count": 29,
   "metadata": {},
   "outputs": [],
   "source": [
    "import numpy as np\n",
    "import cv2\n",
    "import glob\n",
    "import pickle\n",
    "import os\n",
    "import matplotlib.pyplot as plt"
   ]
  },
  {
   "cell_type": "code",
   "execution_count": 2,
   "metadata": {},
   "outputs": [],
   "source": [
    "objp=np.zeros((6*9,3),np.float32)\n",
    "objp[:,:2]=np.mgrid[0:9,0:6].T.reshape(-1,2)\n",
    "\n",
    "objpoints=[]\n",
    "imgpoints=[]\n",
    "\n",
    "images=glob.glob('camera_cal/calibration*.jpg')\n",
    "\n",
    "for fname in images:\n",
    "    img=cv2.imread(fname)\n",
    "    gray=cv2.cvtColor(img,cv2.COLOR_BGR2GRAY)\n",
    "    \n",
    "    ret,corners=cv2.findChessboardCorners(gray,(9,6),None)\n",
    "    \n",
    "    if ret==True:\n",
    "        objpoints.append(objp)\n",
    "        imgpoints.append(corners)\n",
    "        \n",
    "        img=cv2.drawChessboardCorners(img,(9,6),corners,ret)\n",
    "#         cv2.imshow('img',img)\n",
    "        cv2.waitKey(1)\n",
    "        \n",
    "cv2.destroyAllWindows()\n",
    "        "
   ]
  },
  {
   "cell_type": "code",
   "execution_count": 16,
   "metadata": {},
   "outputs": [],
   "source": [
    "img=cv2.imread('camera_cal/calibration5.jpg')\n",
    "gray=cv2.cvtColor(img,cv2.COLOR_BGR2GRAY)\n",
    "ret,mtx,dist,rvecs,tvecs=cv2.calibrateCamera(objpoints,imgpoints,gray.shape[::-1],None,None)\n",
    "undist=cv2.undistort(img,mtx,dist,None,mtx)"
   ]
  },
  {
   "cell_type": "code",
   "execution_count": 17,
   "metadata": {},
   "outputs": [],
   "source": [
    "cv2.imshow('undist',undist)\n",
    "cv2.imwrite('camera_cal_output/undistorted_cal5.jpg',undist)\n",
    "cv2.waitKey()\n",
    "cv2.destroyAllWindows()"
   ]
  },
  {
   "cell_type": "code",
   "execution_count": 33,
   "metadata": {},
   "outputs": [],
   "source": [
    "dist_pickle = {}\n",
    "dist_pickle[\"mtx\"] = mtx\n",
    "dist_pickle[\"dist\"] = dist\n",
    "pickle.dump( dist_pickle, open( \"camera_dist_pickle.p\", \"wb\" ) )"
   ]
  },
  {
   "cell_type": "code",
   "execution_count": 35,
   "metadata": {},
   "outputs": [
    {
     "name": "stdout",
     "output_type": "stream",
     "text": [
      "{'mtx': array([[1.15777930e+03, 0.00000000e+00, 6.67111054e+02],\n",
      "       [0.00000000e+00, 1.15282291e+03, 3.86128937e+02],\n",
      "       [0.00000000e+00, 0.00000000e+00, 1.00000000e+00]]), 'dist': array([[-0.24688775, -0.02373133, -0.00109842,  0.00035108, -0.00258571]])}\n"
     ]
    }
   ],
   "source": [
    "with open('camera_dist_pickle.p', mode='rb') as f:\n",
    "    unpickle = pickle.Unpickler(f)\n",
    "    dist_pickle=unpickle.load()\n",
    "    print(dist_pickle)"
   ]
  },
  {
   "cell_type": "code",
   "execution_count": null,
   "metadata": {},
   "outputs": [],
   "source": []
  }
 ],
 "metadata": {
  "kernelspec": {
   "display_name": "Python 3",
   "language": "python",
   "name": "python3"
  },
  "language_info": {
   "codemirror_mode": {
    "name": "ipython",
    "version": 3
   },
   "file_extension": ".py",
   "mimetype": "text/x-python",
   "name": "python",
   "nbconvert_exporter": "python",
   "pygments_lexer": "ipython3",
   "version": "3.6.5"
  }
 },
 "nbformat": 4,
 "nbformat_minor": 2
}
